{
 "cells": [
  {
   "cell_type": "code",
   "execution_count": 1,
   "metadata": {},
   "outputs": [
    {
     "name": "stdout",
     "output_type": "stream",
     "text": [
      "WARNING:tensorflow:From /home/matt/anaconda3/envs/ray_test/lib/python3.7/site-packages/tensorflow/python/compat/compat.py:175: disable_resource_variables (from tensorflow.python.ops.variable_scope) is deprecated and will be removed in a future version.\n",
      "Instructions for updating:\n",
      "non-resource variables are not supported in the long term\n"
     ]
    }
   ],
   "source": [
    "import numpy as np\n",
    "import tensorflow as tf\n",
    "import gym.spaces\n",
    "from gym.spaces import Box, Tuple, Discrete\n",
    "from ray.rllib.models.action_dist import ActionDistribution\n",
    "from ray.rllib.utils.annotations import override\n"
   ]
  },
  {
   "cell_type": "code",
   "execution_count": 2,
   "metadata": {},
   "outputs": [],
   "source": [
    "class DiagGaussianLastDimParams(ActionDistribution):\n",
    "\n",
    "    def __init__(self, inputs):\n",
    "        mean, log_std = tf.split(inputs, 2, axis=-1)\n",
    "        self.mean = tf.squeeze(mean, -1)\n",
    "        self.log_std = tf.squeeze(log_std, -1)\n",
    "        self.std = tf.exp(self.log_std)\n",
    "        ActionDistribution.__init__(self, inputs)\n",
    "    \n",
    "    @property\n",
    "    def reduction_axes_to_batch_dim(self):\n",
    "        return list(range(len(self.mean.shape)))[1:]\n",
    "\n",
    "    @override(ActionDistribution)\n",
    "    def logp(self, x):\n",
    "        reduction_indeces = self.reduction_axes_to_batch_dim\n",
    "        return (-0.5 * tf.reduce_sum(\n",
    "            tf.square((x - self.mean) / self.std), reduction_indices=reduction_indeces) -\n",
    "                0.5 * np.log(2.0 * np.pi) * tf.to_float(tf.shape(x)[1]) -\n",
    "                tf.reduce_sum(self.log_std, reduction_indices=reduction_indeces))\n",
    "\n",
    "    @override(ActionDistribution)\n",
    "    def kl(self, other):\n",
    "        assert isinstance(other, DiagGaussian)\n",
    "        return tf.reduce_sum(\n",
    "            other.log_std - self.log_std +\n",
    "            (tf.square(self.std) + tf.square(self.mean - other.mean)) /\n",
    "            (2.0 * tf.square(other.std)) - 0.5,\n",
    "            reduction_indices=self.reduction_axes_to_batch_dim)\n",
    "\n",
    "    @override(ActionDistribution)\n",
    "    def entropy(self):\n",
    "        return tf.reduce_sum(\n",
    "            .5 * self.log_std + .5 * np.log(2.0 * np.pi * np.e),\n",
    "            reduction_indices=self.reduction_axes_to_batch_dim)\n",
    "\n",
    "    @override(ActionDistribution)\n",
    "    def _build_sample_op(self):\n",
    "        return self.mean + self.std * tf.random_normal(tf.shape(self.mean))\n",
    "    \n",
    "    @staticmethod\n",
    "    def param_shape_for_action_space(action_space):\n",
    "        return tuple(action_space.shape) + (2,)"
   ]
  },
  {
   "cell_type": "code",
   "execution_count": 3,
   "metadata": {},
   "outputs": [],
   "source": [
    "# a multi-box distribution\n",
    "action_space = Tuple([Box(0, 1, [1]), Box(0, 1, [2, 2]), Box(0, 1, [3, 3, 3])])"
   ]
  },
  {
   "cell_type": "code",
   "execution_count": 4,
   "metadata": {},
   "outputs": [
    {
     "data": {
      "text/plain": [
       "(array([0.2304567], dtype=float32), array([[0.63514733, 0.92726606],\n",
       "        [0.21354426, 0.15934667]], dtype=float32), array([[[0.27304482, 0.10951104, 0.7014962 ],\n",
       "         [0.97908866, 0.66205126, 0.23139764],\n",
       "         [0.34884912, 0.3818943 , 0.06303718]],\n",
       " \n",
       "        [[0.22497487, 0.6939296 , 0.47430623],\n",
       "         [0.06586658, 0.23856476, 0.9842732 ],\n",
       "         [0.37169626, 0.6850393 , 0.3766804 ]],\n",
       " \n",
       "        [[0.7469263 , 0.8524631 , 0.48257282],\n",
       "         [0.13400312, 0.08383126, 0.83112395],\n",
       "         [0.46184042, 0.661182  , 0.7354287 ]]], dtype=float32))"
      ]
     },
     "execution_count": 4,
     "metadata": {},
     "output_type": "execute_result"
    }
   ],
   "source": [
    "action_space.sample()"
   ]
  },
  {
   "cell_type": "code",
   "execution_count": 5,
   "metadata": {},
   "outputs": [],
   "source": [
    "# some function to ask action distributions what shape of parameter tensor they need for each component action space\n",
    "def param_shape_for_action_space(space):\n",
    "    if isinstance(space, Tuple):\n",
    "        return tuple(param_shape_for_action_space(s) for s in space)\n",
    "    # case for Dict action spaces\n",
    "    if isinstance(space, Box):\n",
    "        return DiagGaussianLastDimParams.param_shape_for_action_space(space)\n",
    "    # other cases"
   ]
  },
  {
   "cell_type": "code",
   "execution_count": 6,
   "metadata": {},
   "outputs": [],
   "source": [
    "param_shapes = param_shape_for_action_space(action_space)\n",
    "# ^^ this goes into the Model's __init__ so it knows how many tensors it needs to return and what shapes"
   ]
  },
  {
   "cell_type": "code",
   "execution_count": 7,
   "metadata": {},
   "outputs": [],
   "source": [
    "# define placeholders for the parameters for this tuple of distribution\n",
    "param_placeholders = tuple([tf.placeholder(tf.float32, [None, *shape]) for shape in param_shapes])"
   ]
  },
  {
   "cell_type": "code",
   "execution_count": 8,
   "metadata": {},
   "outputs": [
    {
     "data": {
      "text/plain": [
       "(<tf.Tensor 'Placeholder:0' shape=(?, 1, 2) dtype=float32>,\n",
       " <tf.Tensor 'Placeholder_1:0' shape=(?, 2, 2, 2) dtype=float32>,\n",
       " <tf.Tensor 'Placeholder_2:0' shape=(?, 3, 3, 3, 2) dtype=float32>)"
      ]
     },
     "execution_count": 8,
     "metadata": {},
     "output_type": "execute_result"
    }
   ],
   "source": [
    "param_placeholders"
   ]
  },
  {
   "cell_type": "code",
   "execution_count": 9,
   "metadata": {},
   "outputs": [],
   "source": [
    "action_distributions = [DiagGaussianLastDimParams(param) for param in param_placeholders]"
   ]
  },
  {
   "cell_type": "code",
   "execution_count": 10,
   "metadata": {},
   "outputs": [],
   "source": [
    "# sample op for a tuple action distribution\n",
    "sample_ops = tuple(dist.sample() for dist in action_distributions)"
   ]
  },
  {
   "cell_type": "code",
   "execution_count": 11,
   "metadata": {},
   "outputs": [],
   "source": [
    "# generate some dummy batch of distribution parameter values\n",
    "batch_size = 5\n",
    "param_values = [np.random.randn(batch_size, *ph.shape.as_list()[1:]) for ph in param_placeholders]"
   ]
  },
  {
   "cell_type": "code",
   "execution_count": 12,
   "metadata": {},
   "outputs": [],
   "source": [
    "# distribution parameter feed dict\n",
    "param_feed_dict = dict(zip(param_placeholders, param_values))"
   ]
  },
  {
   "cell_type": "code",
   "execution_count": 13,
   "metadata": {},
   "outputs": [],
   "source": [
    "sess = tf.Session()"
   ]
  },
  {
   "cell_type": "code",
   "execution_count": 14,
   "metadata": {},
   "outputs": [],
   "source": [
    "total_entropy = tf.add_n([dist.entropy() for dist in action_distributions])"
   ]
  },
  {
   "cell_type": "code",
   "execution_count": 15,
   "metadata": {},
   "outputs": [
    {
     "data": {
      "text/plain": [
       "array([47.086502, 47.601696, 46.11048 , 47.55205 , 43.394684],\n",
       "      dtype=float32)"
      ]
     },
     "execution_count": 15,
     "metadata": {},
     "output_type": "execute_result"
    }
   ],
   "source": [
    "#batchwise statistics of a joint distribution\n",
    "sess.run(total_entropy, param_feed_dict)"
   ]
  },
  {
   "cell_type": "code",
   "execution_count": 16,
   "metadata": {},
   "outputs": [
    {
     "data": {
      "text/plain": [
       "<tf.Tensor 'add_2:0' shape=(?, 3, 3, 3) dtype=float32>"
      ]
     },
     "execution_count": 16,
     "metadata": {},
     "output_type": "execute_result"
    }
   ],
   "source": [
    "action_distributions[-1].sample_op"
   ]
  },
  {
   "cell_type": "code",
   "execution_count": 17,
   "metadata": {},
   "outputs": [],
   "source": [
    "# get some sampled actions for our random parameter set\n",
    "sampled_actions = sess.run(sample_ops, feed_dict=param_feed_dict)"
   ]
  },
  {
   "cell_type": "code",
   "execution_count": 18,
   "metadata": {},
   "outputs": [],
   "source": [
    "action_placeholders = [tf.placeholder(tf.float32, [None, *s.shape]) for s in action_space]"
   ]
  },
  {
   "cell_type": "code",
   "execution_count": 19,
   "metadata": {},
   "outputs": [],
   "source": [
    "action_feed_dict = dict(zip(action_placeholders, sampled_actions))"
   ]
  },
  {
   "cell_type": "code",
   "execution_count": 20,
   "metadata": {},
   "outputs": [
    {
     "data": {
      "text/plain": [
       "[<tf.Tensor 'Placeholder_3:0' shape=(?, 1) dtype=float32>,\n",
       " <tf.Tensor 'Placeholder_4:0' shape=(?, 2, 2) dtype=float32>,\n",
       " <tf.Tensor 'Placeholder_5:0' shape=(?, 3, 3, 3) dtype=float32>]"
      ]
     },
     "execution_count": 20,
     "metadata": {},
     "output_type": "execute_result"
    }
   ],
   "source": [
    "action_placeholders"
   ]
  },
  {
   "cell_type": "code",
   "execution_count": 21,
   "metadata": {},
   "outputs": [
    {
     "name": "stdout",
     "output_type": "stream",
     "text": [
      "WARNING:tensorflow:From <ipython-input-2-b1278aad4044>:19: to_float (from tensorflow.python.ops.math_ops) is deprecated and will be removed in a future version.\n",
      "Instructions for updating:\n",
      "Use tf.cast instead.\n"
     ]
    }
   ],
   "source": [
    "# a joint logp for a generic tuple distribution\n",
    "logp_op = [dist.logp(action) for dist, action in zip(action_distributions, action_placeholders)]"
   ]
  },
  {
   "cell_type": "code",
   "execution_count": null,
   "metadata": {},
   "outputs": [],
   "source": []
  },
  {
   "cell_type": "code",
   "execution_count": 22,
   "metadata": {},
   "outputs": [
    {
     "data": {
      "text/plain": [
       "[array([-0.986536  ,  0.6014351 , -1.5928472 , -0.9579828 , -0.86125576],\n",
       "       dtype=float32),\n",
       " array([-5.5960627, -2.8220892, -4.082852 , -2.5123987, -4.4787593],\n",
       "       dtype=float32),\n",
       " array([-12.479827, -23.272427, -24.689245, -21.244213, -16.407429],\n",
       "       dtype=float32)]"
      ]
     },
     "execution_count": 22,
     "metadata": {},
     "output_type": "execute_result"
    }
   ],
   "source": [
    "sess.run(logp_op, {**action_feed_dict, **param_feed_dict})"
   ]
  },
  {
   "cell_type": "code",
   "execution_count": null,
   "metadata": {},
   "outputs": [],
   "source": []
  }
 ],
 "metadata": {
  "kernelspec": {
   "display_name": "Python 3",
   "language": "python",
   "name": "python3"
  },
  "language_info": {
   "codemirror_mode": {
    "name": "ipython",
    "version": 3
   },
   "file_extension": ".py",
   "mimetype": "text/x-python",
   "name": "python",
   "nbconvert_exporter": "python",
   "pygments_lexer": "ipython3",
   "version": "3.7.3"
  }
 },
 "nbformat": 4,
 "nbformat_minor": 2
}
